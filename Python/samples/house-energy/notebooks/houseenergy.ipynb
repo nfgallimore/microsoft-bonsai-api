{
 "cells": [
  {
   "cell_type": "markdown",
   "id": "376f83e7",
   "metadata": {},
   "source": [
    "# Lesson 1 Inkling\n",
    "- The first Inkling used is from the [house-energy](https://github.com/microsoft/microsoft-bonsai-api/blob/main/Python/samples/house-energy/machine_teacher.ink) folder in the *microsoft-bonsai-api* repo.\n",
    "\n",
    "- It has a goal based curriculum that minimizes the difference between the thermostat setting and the temperature inside the building.\n",
    "\n",
    "- It has one lesson that varies the initial temperature inside between 18 and 30 and sets the other values to the default values that are defined in the [simulator code](https://github.com/microsoft/microsoft-bonsai-api/blob/main/Python/samples/house-energy/sim/house_simulator.py) \n",
    "\n",
    "```python\n",
    "inkling \"2.0\"\n",
    "using Number\n",
    "using Goal\n",
    "using Math\n",
    "\n",
    "const MaxDeviation = 2\n",
    "const MaxIterations = 288\n",
    "\n",
    "type SimState {\n",
    "    Tset: Number.Float32,\n",
    "    Tin: Number.Float32,\n",
    "    Tout: Number.Float32,\n",
    "}\n",
    "\n",
    "type SimAction {\n",
    "    hvacON: Number.Int8 <off=0, on=1,>\n",
    "}\n",
    "\n",
    "type SimConfig {\n",
    "    K: Number.Float32, # Thermal conductivity\n",
    "    C: Number.Float32, # Thermal Capacity\n",
    "    Qhvac: Number.Float32, # Heat Flux\n",
    "    Tin_initial: number, # C\n",
    "    schedule_index: Number.Int8, # 1 - fixed, 2 - randomized\n",
    "    number_of_days: number,\n",
    "    timestep: number, # Min\n",
    "    max_iterations: number, # Alters schedule generation\n",
    "}\n",
    "\n",
    "function TempDiff(Tin:number, Tset:number) {\n",
    "    return Math.Abs(Tin - Tset)\n",
    "}\n",
    "\n",
    "\n",
    "graph (input: SimState): SimAction {\n",
    "    concept SmartHouse(input): SimAction {\n",
    "        curriculum {\n",
    "            source simulator (Action: SimAction, Config: SimConfig): SimState {\n",
    "                package \"HouseEnergy\"\n",
    "            }\n",
    "            goal (State: SimState) {\n",
    "                minimize `Temp Deviation`:\n",
    "                    TempDiff(State.Tin, State.Tset) in Goal.RangeBelow(MaxDeviation)\n",
    "            }\n",
    "\n",
    "            training {\n",
    "                EpisodeIterationLimit: MaxIterations\n",
    "            }\n",
    "\n",
    "            lesson `Lesson 1` {\n",
    "                scenario {\n",
    "                    K: 0.5,\n",
    "                    C: 0.3,\n",
    "                    Qhvac: 9,\n",
    "                    Tin_initial: number<18 .. 30>,\n",
    "                    schedule_index: 2,\n",
    "                    number_of_days: 1,\n",
    "                    timestep: 5,\n",
    "                    max_iterations: MaxIterations\n",
    "                }\n",
    "            }\n",
    "        }\n",
    "    }\n",
    "}\n",
    "    \n",
    "```"
   ]
  },
  {
   "cell_type": "markdown",
   "id": "f8e06813",
   "metadata": {},
   "source": [
    "## The following calculates the root mean square of the Lesson 1 Inkling"
   ]
  },
  {
   "cell_type": "code",
   "execution_count": 44,
   "id": "ef6470bf",
   "metadata": {},
   "outputs": [
    {
     "name": "stdout",
     "output_type": "stream",
     "text": [
      "0.9386015491502107\n"
     ]
    }
   ],
   "source": [
    "import pandas as pd\n",
    "import json\n",
    "\n",
    "# Parse lesson 1 csv\n",
    "data = pd.read_csv('../csv/lesson1.csv')\n",
    "strdata = data['SimState_s'].apply(json.loads)\n",
    "strlst = list(strdata)\n",
    "strjson = json.dumps(strlst)\n",
    "data = data.join(pd.read_json(strjson))\n",
    "\n",
    "rootMeanSquare = ((data[\"Tset\"] - data[\"Tin\"]) ** 2).mean() ** .5\n",
    "print(rootMeanSquare)\n"
   ]
  },
  {
   "cell_type": "markdown",
   "id": "7e413c2b",
   "metadata": {},
   "source": [
    "## The following calculates the root mean square of the random baseline:"
   ]
  },
  {
   "cell_type": "code",
   "execution_count": 4,
   "id": "625ad6dc",
   "metadata": {},
   "outputs": [
    {
     "name": "stdout",
     "output_type": "stream",
     "text": [
      "3.4328605246987633\n"
     ]
    }
   ],
   "source": [
    "import pandas as pd\n",
    "import json\n",
    "data = pd.read_json('../csv/random.json')\n",
    "rootMeanSquare = ((data[\"Tset\"] - data[\"Tin\"]) ** 2).mean() ** .5\n",
    "print(rootMeanSquare)"
   ]
  },
  {
   "cell_type": "code",
   "execution_count": null,
   "id": "5ca5b115",
   "metadata": {},
   "outputs": [],
   "source": []
  }
 ],
 "metadata": {
  "kernelspec": {
   "display_name": "Python 3",
   "language": "python",
   "name": "python3"
  },
  "language_info": {
   "codemirror_mode": {
    "name": "ipython",
    "version": 3
   },
   "file_extension": ".py",
   "mimetype": "text/x-python",
   "name": "python",
   "nbconvert_exporter": "python",
   "pygments_lexer": "ipython3",
   "version": "3.7.10"
  }
 },
 "nbformat": 4,
 "nbformat_minor": 5
}
